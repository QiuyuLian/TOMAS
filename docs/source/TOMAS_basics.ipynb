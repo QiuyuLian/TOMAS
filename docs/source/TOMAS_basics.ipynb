{
 "cells": [
  {
   "cell_type": "markdown",
   "id": "soviet-humanitarian",
   "metadata": {},
   "source": [
    "# TOMAS Basics"
   ]
  },
  {
   "cell_type": "markdown",
   "id": "c55de9b3-31da-4888-af7b-da710ff8f641",
   "metadata": {},
   "source": [
    "`TOMAS` is a computational framework that derives total mRNA content ratios between cell populations via deconvoluting their heterotypic doublets. "
   ]
  },
  {
   "cell_type": "markdown",
   "id": "stunning-commissioner",
   "metadata": {},
   "source": [
    "In this tutorial, we will begin with **a simple scenario involving two cell types** to demonstrate how `TOMAS` works. The general case with multiple cell types could be broken into several two-cell-type cases. For simplicity, we assume the droplet labels are known. "
   ]
  },
  {
   "cell_type": "markdown",
   "id": "e83eef94-318e-4782-b65c-2ff7daa62140",
   "metadata": {},
   "source": [
    "We utilized a simulation dataset with known ground truth as an illustration, setting the mean of total-mRNA ratios between the two cell types at 4. The Dirichlet-Multinomial probability signatures of the two cell types are derived from our in-house T cell activation dataset. This example dataset is available for [download](https://github.com/QiuyuLian/TOMAS/tree/main/datasets). "
   ]
  },
  {
   "cell_type": "code",
   "execution_count": 1,
   "id": "broken-concord",
   "metadata": {},
   "outputs": [],
   "source": [
    "import tomas as tm\n",
    "import scanpy as sc\n",
    "import numpy as np\n",
    "import pandas as pd\n",
    "import time\n",
    "from matplotlib import pyplot as plt"
   ]
  },
  {
   "cell_type": "code",
   "execution_count": 2,
   "id": "chemical-tract",
   "metadata": {},
   "outputs": [
    {
     "data": {
      "text/html": [
       "<div>\n",
       "<style scoped>\n",
       "    .dataframe tbody tr th:only-of-type {\n",
       "        vertical-align: middle;\n",
       "    }\n",
       "\n",
       "    .dataframe tbody tr th {\n",
       "        vertical-align: top;\n",
       "    }\n",
       "\n",
       "    .dataframe thead th {\n",
       "        text-align: right;\n",
       "    }\n",
       "</style>\n",
       "<table border=\"1\" class=\"dataframe\">\n",
       "  <thead>\n",
       "    <tr style=\"text-align: right;\">\n",
       "      <th></th>\n",
       "      <th>danno</th>\n",
       "      <th>trueR</th>\n",
       "    </tr>\n",
       "  </thead>\n",
       "  <tbody>\n",
       "    <tr>\n",
       "      <th>d_1705</th>\n",
       "      <td>naive</td>\n",
       "      <td>NaN</td>\n",
       "    </tr>\n",
       "    <tr>\n",
       "      <th>d_2401</th>\n",
       "      <td>naive</td>\n",
       "      <td>NaN</td>\n",
       "    </tr>\n",
       "    <tr>\n",
       "      <th>d_1319</th>\n",
       "      <td>naive</td>\n",
       "      <td>NaN</td>\n",
       "    </tr>\n",
       "  </tbody>\n",
       "</table>\n",
       "</div>"
      ],
      "text/plain": [
       "        danno  trueR\n",
       "d_1705  naive    NaN\n",
       "d_2401  naive    NaN\n",
       "d_1319  naive    NaN"
      ]
     },
     "execution_count": 2,
     "metadata": {},
     "output_type": "execute_result"
    }
   ],
   "source": [
    "adata = sc.read_h5ad('../../datasets/adata_basic.h5ad') # set the path to match how you save the downloaded data.\n",
    "adata.obs.head(3)  # ground truth of droplet labels and total-mRNA ratios are stroed in adata.obs"
   ]
  },
  {
   "cell_type": "markdown",
   "id": "480b38c0-97fe-4be6-89a7-24454f44a9ae",
   "metadata": {},
   "source": [
    "There are totally 1000 droplets with 50 doublets (doublet rate is 5%) in the simulation dataset."
   ]
  },
  {
   "cell_type": "markdown",
   "id": "80898fa8-9956-4c86-9772-f4e60c2d4b4c",
   "metadata": {},
   "source": [
    "The label of droplets should be stored in `adata.obs`. The naming of heterotypic doublets must be the concatenation of names of two component cell types by underscore('_'). Avoid undersocre in names of homotypic droplets."
   ]
  },
  {
   "cell_type": "code",
   "execution_count": 3,
   "id": "identical-cleaning",
   "metadata": {},
   "outputs": [
    {
     "data": {
      "text/plain": [
       "(array(['active', 'naive', 'naive_active'], dtype=object),\n",
       " array([475, 475,  50]))"
      ]
     },
     "execution_count": 3,
     "metadata": {},
     "output_type": "execute_result"
    }
   ],
   "source": [
    "np.unique(adata.obs['danno'],return_counts=True)"
   ]
  },
  {
   "cell_type": "markdown",
   "id": "processed-hampshire",
   "metadata": {},
   "source": [
    "Display UMI amount distribution if necessary."
   ]
  },
  {
   "cell_type": "code",
   "execution_count": 4,
   "id": "exclusive-executive",
   "metadata": {},
   "outputs": [
    {
     "data": {
      "image/png": "[encoded data removed]",
      "text/plain": [
       "<Figure size 384x256 with 1 Axes>"
      ]
     },
     "metadata": {},
     "output_type": "display_data"
    }
   ],
   "source": [
    "tm.vis.UMI_hist(adata,groupby='danno')"
   ]
  },
  {
   "cell_type": "markdown",
   "id": "prescribed-robertson",
   "metadata": {},
   "source": [
    "## Step1: Fit Homotypic Droplet Populations "
   ]
  },
  {
   "cell_type": "markdown",
   "id": "7a214edc-2b7d-4e5a-abad-df88d82683bc",
   "metadata": {},
   "source": [
    "Fit total UMI amounts with log-Normal distribution. The parameters are stored in `adata.uns['para_logUMI']`."
   ]
  },
  {
   "cell_type": "code",
   "execution_count": 5,
   "id": "9db16793-0672-4320-9641-6836a6b92fd4",
   "metadata": {},
   "outputs": [],
   "source": [
    "tm.fit.logNormal(adata,groupby='danno')"
   ]
  },
  {
   "cell_type": "markdown",
   "id": "falling-confusion",
   "metadata": {},
   "source": [
    "Fit gene probability signatures with Dirichlet-Multinomial (DMN) model. The optimizated paremeters `Alpha` of each cell types are stroed in `adata.varm['para_diri']`."
   ]
  },
  {
   "cell_type": "code",
   "execution_count": 6,
   "id": "legitimate-process",
   "metadata": {},
   "outputs": [
    {
     "name": "stdout",
     "output_type": "stream",
     "text": [
      "Initialization 0\n",
      "  Iteration 100\t time lapse 12.34517s\t ll change 0.10193\n",
      "Initialization converged: True\t time lapse 23.97408s\t ll -163680.93666\n",
      "active is done!\n",
      "Initialization 0\n",
      "  Iteration 100\t time lapse 9.94024s\t ll change 0.06904\n",
      "  Iteration 200\t time lapse 9.56807s\t ll change 0.00602\n",
      "  Iteration 300\t time lapse 9.88499s\t ll change 0.00104\n",
      "Initialization converged: True\t time lapse 29.68939s\t ll -37940.07350\n",
      "naive is done!\n"
     ]
    }
   ],
   "source": [
    "tm.fit.dmn(adata,\n",
    "           groupby='danno',\n",
    "           groups=['naive','active'],  \n",
    "           verbose=2,\n",
    "           verbose_interval = 100) "
   ]
  },
  {
   "cell_type": "markdown",
   "id": "b9708a49-2372-43ed-a420-87d7bf510412",
   "metadata": {},
   "source": [
    "## Step2: Estimate Total-mRNA Ratios by Synthesizing Doublets"
   ]
  },
  {
   "cell_type": "markdown",
   "id": "mobile-jerusalem",
   "metadata": {},
   "source": [
    "We merge metagenes according to probability signatures of two component cell types to speed up. Metagenes preserving the key difference of the two cell types warrant efficient estimation of total-mRNA ratios. "
   ]
  },
  {
   "cell_type": "code",
   "execution_count": 7,
   "id": "continuous-cosmetic",
   "metadata": {},
   "outputs": [],
   "source": [
    "adata_dbl_mg = tm.infer.get_dbl_mg_bc(adata,\n",
    "                                      groupby = 'danno',\n",
    "                                      dblgroup = 'naive_active') "
   ]
  },
  {
   "cell_type": "markdown",
   "id": "identified-milwaukee",
   "metadata": {},
   "source": [
    "Estimate $R$ by optimizing the likelihood of heterotypic doublet with Monte Carto sampling "
   ]
  },
  {
   "cell_type": "code",
   "execution_count": 8,
   "id": "revolutionary-treasurer",
   "metadata": {},
   "outputs": [
    {
     "name": "stdout",
     "output_type": "stream",
     "text": [
      "Initialized.\n",
      "Iteration 2\ttime lapse 2.7430717945098877s\tll change 1189.861348478502\n",
      "\n",
      "Iteration 4\ttime lapse 2.8204591274261475s\tll change 0.29203234720625915\n",
      "\n",
      "Iteration 6\ttime lapse 2.77731990814209s\tll change 0.004154046822804958\n",
      "\n"
     ]
    },
    {
     "data": {
      "image/png": "[encoded data removed]",
      "text/plain": [
       "<Figure size 256x256 with 2 Axes>"
      ]
     },
     "metadata": {},
     "output_type": "display_data"
    }
   ],
   "source": [
    "tm.infer.ratios_bc(adata_dbl_mg,\n",
    "                  dblgroup='naive_active',\n",
    "                  max_iter=30,\n",
    "                  verbose=1,verbose_interval=2)\n",
    "\n",
    "w_best = adata_dbl_mg.uns['ratio']['w_best']\n",
    "tm.vis.logRatio_dist((1-w_best)/w_best)"
   ]
  },
  {
   "cell_type": "markdown",
   "id": "d410a8f8-8c4d-4779-bd26-bfa6c0959376",
   "metadata": {},
   "source": [
    "Compare estimated total-mRNA ratios of each heterotypic doublet with ground truth"
   ]
  },
  {
   "cell_type": "code",
   "execution_count": 10,
   "id": "expected-popularity",
   "metadata": {},
   "outputs": [],
   "source": [
    "log2R_pred = np.log2((1-w_best)/w_best)\n",
    "log2R_true = np.log2(adata.obs.loc[adata.obs['danno']=='naive_active','trueR'])"
   ]
  },
  {
   "cell_type": "code",
   "execution_count": 11,
   "id": "functional-feedback",
   "metadata": {},
   "outputs": [
    {
     "data": {
      "image/png": "[encoded data removed]",
      "text/plain": [
       "<Figure size 300x300 with 1 Axes>"
      ]
     },
     "metadata": {},
     "output_type": "display_data"
    }
   ],
   "source": [
    "plt.figure(figsize=(3,3))\n",
    "plt.scatter(log2R_true, log2R_pred,s=5)\n",
    "plt.plot([np.min(log2R_pred),np.max(log2R_pred)],[np.min(log2R_pred),np.max(log2R_pred)],'--',c='r')\n",
    "plt.xlabel('True $log_{2}$R',fontsize=12)\n",
    "plt.ylabel('Estimated $log_{2}$R',fontsize=12)\n",
    "plt.tight_layout()\n",
    "plt.show()"
   ]
  },
  {
   "cell_type": "code",
   "execution_count": null,
   "id": "loving-advertising",
   "metadata": {},
   "outputs": [],
   "source": []
  }
 ],
 "metadata": {
  "kernelspec": {
   "display_name": "tomas",
   "language": "python",
   "name": "tomas"
  },
  "language_info": {
   "codemirror_mode": {
    "name": "ipython",
    "version": 3
   },
   "file_extension": ".py",
   "mimetype": "text/x-python",
   "name": "python",
   "nbconvert_exporter": "python",
   "pygments_lexer": "ipython3",
   "version": "3.8.15"
  }
 },
 "nbformat": 4,
 "nbformat_minor": 5
}
