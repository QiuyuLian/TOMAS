{
 "cells": [
  {
   "cell_type": "markdown",
   "id": "married-andrew",
   "metadata": {},
   "source": [
    "# Total-mRNA-aware analyses"
   ]
  },
  {
   "cell_type": "markdown",
   "id": "young-storm",
   "metadata": {},
   "source": [
    "**Authors:** Qiuyu Lian"
   ]
  },
  {
   "cell_type": "markdown",
   "id": "explicit-mileage",
   "metadata": {},
   "source": [
    "In this tutorial, we introduce how to perform total-mRNA-aware differential analysis between two cell types with `TOMAS`."
   ]
  },
  {
   "cell_type": "code",
   "execution_count": 1,
   "id": "confused-yacht",
   "metadata": {},
   "outputs": [
    {
     "name": "stdout",
     "output_type": "stream",
     "text": [
      "0.1.26\n"
     ]
    }
   ],
   "source": [
    "import tomas as tm\n",
    "import scanpy as sc\n",
    "import pickle\n",
    "import numpy as np\n",
    "import pandas as pd\n",
    "import copy\n",
    "\n",
    "print(tm.__version__)"
   ]
  },
  {
   "cell_type": "code",
   "execution_count": 2,
   "id": "surprising-camera",
   "metadata": {},
   "outputs": [],
   "source": [
    "adata = sc.read_h5ad('./adata_tmp.h5ad')"
   ]
  },
  {
   "cell_type": "code",
   "execution_count": 3,
   "id": "8c93e534-d6d0-411b-ba82-1412af82da2d",
   "metadata": {},
   "outputs": [
    {
     "data": {
      "text/html": [
       "<div>\n",
       "<style scoped>\n",
       "    .dataframe tbody tr th:only-of-type {\n",
       "        vertical-align: middle;\n",
       "    }\n",
       "\n",
       "    .dataframe tbody tr th {\n",
       "        vertical-align: top;\n",
       "    }\n",
       "\n",
       "    .dataframe thead th {\n",
       "        text-align: right;\n",
       "    }\n",
       "</style>\n",
       "<table border=\"1\" class=\"dataframe\">\n",
       "  <thead>\n",
       "    <tr style=\"text-align: right;\">\n",
       "      <th></th>\n",
       "      <th>3</th>\n",
       "    </tr>\n",
       "  </thead>\n",
       "  <tbody>\n",
       "    <tr>\n",
       "      <th>3</th>\n",
       "      <td>1.000000</td>\n",
       "    </tr>\n",
       "    <tr>\n",
       "      <th>0</th>\n",
       "      <td>1.986364</td>\n",
       "    </tr>\n",
       "    <tr>\n",
       "      <th>2</th>\n",
       "      <td>3.916793</td>\n",
       "    </tr>\n",
       "    <tr>\n",
       "      <th>1</th>\n",
       "      <td>5.738651</td>\n",
       "    </tr>\n",
       "  </tbody>\n",
       "</table>\n",
       "</div>"
      ],
      "text/plain": [
       "          3\n",
       "3  1.000000\n",
       "0  1.986364\n",
       "2  3.916793\n",
       "1  5.738651"
      ]
     },
     "execution_count": 3,
     "metadata": {},
     "output_type": "execute_result"
    }
   ],
   "source": [
    "adata.uns['ratio_serial']"
   ]
  },
  {
   "cell_type": "markdown",
   "id": "married-swedish",
   "metadata": {},
   "source": [
    "## Toal-mRNA-ratio-based UMI correction"
   ]
  },
  {
   "cell_type": "code",
   "execution_count": 4,
   "id": "56843bdd-691f-4ede-be1f-877afb86c725",
   "metadata": {},
   "outputs": [
    {
     "name": "stdout",
     "output_type": "stream",
     "text": [
      "Correct UMIs of population 0\n"
     ]
    },
    {
     "name": "stderr",
     "output_type": "stream",
     "text": [
      "100%|██████████████████████████████████████| 2443/2443 [00:06<00:00, 371.91it/s]\n"
     ]
    },
    {
     "name": "stdout",
     "output_type": "stream",
     "text": [
      "Correct UMIs of population 2\n"
     ]
    },
    {
     "name": "stderr",
     "output_type": "stream",
     "text": [
      "100%|██████████████████████████████████████| 1371/1371 [00:03<00:00, 373.25it/s]\n"
     ]
    },
    {
     "name": "stdout",
     "output_type": "stream",
     "text": [
      "Correct UMIs of population 1\n"
     ]
    },
    {
     "name": "stderr",
     "output_type": "stream",
     "text": [
      "100%|██████████████████████████████████████| 1892/1892 [00:05<00:00, 365.95it/s]\n"
     ]
    }
   ],
   "source": [
    "#adata_rc = correctUMI(adata, groupby='danno_RNAonly')\n",
    "adata_rc = tm.auxi.correctUMI(adata, groupby='danno_RNAonly')\n"
   ]
  },
  {
   "cell_type": "markdown",
   "id": "located-packaging",
   "metadata": {},
   "source": [
    "## Likelihood-ratio-test (LRT)-based DE"
   ]
  },
  {
   "cell_type": "code",
   "execution_count": 5,
   "id": "turned-victorian",
   "metadata": {},
   "outputs": [],
   "source": [
    "tm.fit.logNormal(adata_rc, groupby='danno_RNAonly')\n"
   ]
  },
  {
   "cell_type": "code",
   "execution_count": null,
   "id": "indoor-commodity",
   "metadata": {
    "scrolled": true,
    "tags": []
   },
   "outputs": [
    {
     "name": "stdout",
     "output_type": "stream",
     "text": [
      "LRT-based DE: 2 vs 3. This may take a long time. Please wait...\n"
     ]
    },
    {
     "name": "stderr",
     "output_type": "stream",
     "text": [
      "  6%|▌         | 94/1518 [03:33<1:08:50,  2.90s/it] "
     ]
    }
   ],
   "source": [
    "lrt_DE = tm.lrt.total_mRNA_aware_DE(adata_rc, groupby='danno_RNAonly', reference='3', groups=['2'], method='lrt')\n"
   ]
  },
  {
   "cell_type": "code",
   "execution_count": null,
   "id": "476f0cc2-a88b-473c-905a-3ffbd3f33ed3",
   "metadata": {},
   "outputs": [],
   "source": [
    "lrt_DE.head(3)"
   ]
  },
  {
   "cell_type": "code",
   "execution_count": null,
   "id": "aware-representative",
   "metadata": {},
   "outputs": [],
   "source": []
  }
 ],
 "metadata": {
  "kernelspec": {
   "display_name": "tomas",
   "language": "python",
   "name": "tomas"
  },
  "language_info": {
   "codemirror_mode": {
    "name": "ipython",
    "version": 3
   },
   "file_extension": ".py",
   "mimetype": "text/x-python",
   "name": "python",
   "nbconvert_exporter": "python",
   "pygments_lexer": "ipython3",
   "version": "3.8.15"
  }
 },
 "nbformat": 4,
 "nbformat_minor": 5
}
