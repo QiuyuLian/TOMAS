{
 "cells": [
  {
   "cell_type": "markdown",
   "id": "reported-machinery",
   "metadata": {},
   "source": [
    "# Total mRNA ratio inference"
   ]
  },
  {
   "cell_type": "markdown",
   "id": "developmental-boutique",
   "metadata": {},
   "source": [
    "**Authors:** [Qiuyu Lian](xxx)"
   ]
  },
  {
   "cell_type": "markdown",
   "id": "bearing-colors",
   "metadata": {},
   "source": [
    "In this tutorial, we introduce how to infer the total mRNA ratio between two cell types, which is a basic application case of `TOMAS`. Three kinds of droplets, including `Homo-cell-type-1`, `Homo-cell-type-2` and `Hetero-dbl`, are required."
   ]
  },
  {
   "cell_type": "code",
   "execution_count": 1,
   "id": "complicated-discovery",
   "metadata": {},
   "outputs": [],
   "source": [
    "import tomas as tm\n",
    "import scanpy as sc\n",
    "import pickle\n",
    "import numpy as np\n",
    "import pandas as pd"
   ]
  },
  {
   "cell_type": "markdown",
   "id": "latin-engineer",
   "metadata": {},
   "source": [
    "Load data in `AnnData` form. The droplet labels should be stored in `adata.obs`."
   ]
  },
  {
   "cell_type": "code",
   "execution_count": 2,
   "id": "offensive-month",
   "metadata": {},
   "outputs": [
    {
     "data": {
      "text/html": [
       "<div>\n",
       "<style scoped>\n",
       "    .dataframe tbody tr th:only-of-type {\n",
       "        vertical-align: middle;\n",
       "    }\n",
       "\n",
       "    .dataframe tbody tr th {\n",
       "        vertical-align: top;\n",
       "    }\n",
       "\n",
       "    .dataframe thead th {\n",
       "        text-align: right;\n",
       "    }\n",
       "</style>\n",
       "<table border=\"1\" class=\"dataframe\">\n",
       "  <thead>\n",
       "    <tr style=\"text-align: right;\">\n",
       "      <th></th>\n",
       "      <th>danno</th>\n",
       "    </tr>\n",
       "  </thead>\n",
       "  <tbody>\n",
       "    <tr>\n",
       "      <th>AAACCCAAGACGCCAA-1</th>\n",
       "      <td>Homo-naive</td>\n",
       "    </tr>\n",
       "    <tr>\n",
       "      <th>AAACCCAAGACTTCAC-1</th>\n",
       "      <td>Homo-naive</td>\n",
       "    </tr>\n",
       "    <tr>\n",
       "      <th>AAACCCACAAGTAGTA-1</th>\n",
       "      <td>Homo-naive</td>\n",
       "    </tr>\n",
       "    <tr>\n",
       "      <th>AAACCCACACATGAAA-1</th>\n",
       "      <td>Homo-naive</td>\n",
       "    </tr>\n",
       "    <tr>\n",
       "      <th>AAACCCACAGCTTTCC-1</th>\n",
       "      <td>Homo-naive</td>\n",
       "    </tr>\n",
       "    <tr>\n",
       "      <th>...</th>\n",
       "      <td>...</td>\n",
       "    </tr>\n",
       "    <tr>\n",
       "      <th>TTCTTGAGTGCCGTAC-1</th>\n",
       "      <td>Hetero-dbl</td>\n",
       "    </tr>\n",
       "    <tr>\n",
       "      <th>TTGGGATGTAACATCC-1</th>\n",
       "      <td>Hetero-dbl</td>\n",
       "    </tr>\n",
       "    <tr>\n",
       "      <th>TTGTTGTGTATTTCCT-1</th>\n",
       "      <td>Hetero-dbl</td>\n",
       "    </tr>\n",
       "    <tr>\n",
       "      <th>TTTACCAGTCTGTGTA-1</th>\n",
       "      <td>Hetero-dbl</td>\n",
       "    </tr>\n",
       "    <tr>\n",
       "      <th>TTTACTGGTATTTCGG-1</th>\n",
       "      <td>Hetero-dbl</td>\n",
       "    </tr>\n",
       "  </tbody>\n",
       "</table>\n",
       "<p>17936 rows × 1 columns</p>\n",
       "</div>"
      ],
      "text/plain": [
       "                         danno\n",
       "AAACCCAAGACGCCAA-1  Homo-naive\n",
       "AAACCCAAGACTTCAC-1  Homo-naive\n",
       "AAACCCACAAGTAGTA-1  Homo-naive\n",
       "AAACCCACACATGAAA-1  Homo-naive\n",
       "AAACCCACAGCTTTCC-1  Homo-naive\n",
       "...                        ...\n",
       "TTCTTGAGTGCCGTAC-1  Hetero-dbl\n",
       "TTGGGATGTAACATCC-1  Hetero-dbl\n",
       "TTGTTGTGTATTTCCT-1  Hetero-dbl\n",
       "TTTACCAGTCTGTGTA-1  Hetero-dbl\n",
       "TTTACTGGTATTTCGG-1  Hetero-dbl\n",
       "\n",
       "[17936 rows x 1 columns]"
      ]
     },
     "execution_count": 2,
     "metadata": {},
     "output_type": "execute_result"
    }
   ],
   "source": [
    "adata = sc.read_h5ad('./tomas/datasets/Tcells_sparse.h5ad')\n",
    "adata.obs"
   ]
  },
  {
   "cell_type": "markdown",
   "id": "confident-provider",
   "metadata": {},
   "source": [
    "Display the population size of each kind of droplet."
   ]
  },
  {
   "cell_type": "code",
   "execution_count": 3,
   "id": "invisible-grove",
   "metadata": {},
   "outputs": [
    {
     "data": {
      "text/plain": [
       "(array(['Hetero-dbl', 'Homo-activated', 'Homo-naive'], dtype=object),\n",
       " array([1446, 8076, 8414]))"
      ]
     },
     "execution_count": 3,
     "metadata": {},
     "output_type": "execute_result"
    }
   ],
   "source": [
    "groupby = 'danno'\n",
    "np.unique(adata.obs[groupby], return_counts=True)\n"
   ]
  },
  {
   "cell_type": "markdown",
   "id": "decent-dairy",
   "metadata": {},
   "source": [
    "## Fit Dirichlet-Multinomial (DMN) Model"
   ]
  },
  {
   "cell_type": "markdown",
   "id": "fitting-drive",
   "metadata": {},
   "source": [
    "Fit Dirichlet-Multinomial (DMN) model of cell type 1"
   ]
  },
  {
   "cell_type": "code",
   "execution_count": 4,
   "id": "trying-second",
   "metadata": {},
   "outputs": [],
   "source": [
    "showtype = 'Homo-naive'\n",
    "count_naive = adata[adata.obs[groupby]==showtype,:].X\n",
    "\n",
    "filename = './prepareForRepo/re_test/alpha_subdata_1h/naive'\n",
    "\n",
    "#alpha_naive, record_naive = tm.fit.estimateAlpha(count_naive, filename)"
   ]
  },
  {
   "cell_type": "code",
   "execution_count": 5,
   "id": "acquired-partition",
   "metadata": {},
   "outputs": [],
   "source": [
    "#tm.vis.AlphaOptProcess(record_naive)\n"
   ]
  },
  {
   "cell_type": "markdown",
   "id": "cubic-police",
   "metadata": {},
   "source": [
    "Fit Dirichlet-Multinomial (DMN) model of cell type 2"
   ]
  },
  {
   "cell_type": "code",
   "execution_count": null,
   "id": "humanitarian-leisure",
   "metadata": {},
   "outputs": [],
   "source": [
    "showtype = 'Homo-activated'\n",
    "count_activated = adata[adata.obs[groupby]==showtype,:].X\n",
    "\n",
    "filename = './prepareForRepo/re_test/alpha_subdata_1h/activated'\n",
    "\n",
    "#alpha_activated, record_activated = tm.fit.estimateAlpha(count_activated, filename)\n",
    "#tm.vis.AlphaOptProcess(record_activated)\n"
   ]
  },
  {
   "cell_type": "markdown",
   "id": "difficult-settlement",
   "metadata": {},
   "source": [
    "## Merge genes into exclusive meta-genes"
   ]
  },
  {
   "cell_type": "code",
   "execution_count": 4,
   "id": "optional-opinion",
   "metadata": {},
   "outputs": [
    {
     "data": {
      "text/plain": [
       "(1446, 19303)"
      ]
     },
     "execution_count": 4,
     "metadata": {},
     "output_type": "execute_result"
    }
   ],
   "source": [
    "groupby = 'danno'\n",
    "showtype = 'Hetero-dbl'\n",
    "count_dbl = adata[adata.obs[groupby]==showtype,:].X\n",
    "\n",
    "filename = './prepareForRepo/re_test/alpha_subdata_1h/dbl'\n",
    "\n",
    "count_dbl.shape"
   ]
  },
  {
   "cell_type": "code",
   "execution_count": null,
   "id": "false-techno",
   "metadata": {},
   "outputs": [],
   "source": [
    "'''\n",
    "filename = '/home/qy/Documents/TOMAS/prepareForRepo/re_test/alpha_subdata_1h/naive'\n",
    "f = open( filename+'.dmn.pickle','rb')\n",
    "record_naive = pickle.load(f)\n",
    "f.close()\n",
    "\n",
    "filename = '/home/qy/Documents/TOMAS/prepareForRepo/re_test/alpha_subdata_1h/activated'\n",
    "f = open( filename+'.dmn.pickle','rb')\n",
    "record_activated= pickle.load(f)\n",
    "f.close()\n",
    "\n",
    "alpha_naive = record_naive['alpha'][-1]\n",
    "alpha_activated = record_activated['alpha'][-1]\n",
    "'''"
   ]
  },
  {
   "cell_type": "code",
   "execution_count": 6,
   "id": "impressed-crown",
   "metadata": {},
   "outputs": [],
   "source": [
    "alpha_df = pd.read_csv('/home/qy/Documents/dmn/results/EstimateAlpha/alpha.csv')"
   ]
  },
  {
   "cell_type": "code",
   "execution_count": 7,
   "id": "curious-toner",
   "metadata": {},
   "outputs": [],
   "source": [
    "alpha_naive0 = alpha_df['singlet_naive'].values\n",
    "alpha_activated0 = alpha_df['singlet_activated'].values\n"
   ]
  },
  {
   "cell_type": "code",
   "execution_count": 8,
   "id": "federal-tooth",
   "metadata": {},
   "outputs": [],
   "source": [
    "output = '/home/qy/Documents/TOMAS/prepareForRepo/re_test/Tcell'\n"
   ]
  },
  {
   "cell_type": "markdown",
   "id": "simple-homeless",
   "metadata": {},
   "source": [
    "one core, 19k genes, needs about 15 mins.\n",
    "6 cores, 146s"
   ]
  },
  {
   "cell_type": "code",
   "execution_count": 9,
   "id": "appointed-mediterranean",
   "metadata": {},
   "outputs": [],
   "source": [
    "mg_Alpha, mg_UMI = tm.emg.getExclMetaGene(alpha_naive0,\n",
    "                                          alpha_activated0,\n",
    "                                          count_dbl,\n",
    "                                          output)\n"
   ]
  },
  {
   "cell_type": "markdown",
   "id": "technical-commissioner",
   "metadata": {},
   "source": [
    "## Estimate $R$ with synthetic droplets"
   ]
  },
  {
   "cell_type": "code",
   "execution_count": 10,
   "id": "mineral-bibliography",
   "metadata": {},
   "outputs": [],
   "source": [
    "r_list = tm.est.estimateRatio(mg_Alpha, mg_UMI, output)\n"
   ]
  },
  {
   "cell_type": "code",
   "execution_count": 2,
   "id": "mobile-timeline",
   "metadata": {},
   "outputs": [],
   "source": [
    "datapath = '/home/qy/Documents/DoubletNinja/simulation/results/realdata'\n",
    "r_est = pd.read_csv(datapath+'/realdata_Rtrack.0.csv',header=0,index_col=0)\n",
    "x = r_est.iloc[:,r_est.shape[1]-1]\n",
    "#x_shrinkage,(lb,ub) = rm_outliers(x)"
   ]
  },
  {
   "cell_type": "code",
   "execution_count": 4,
   "id": "wrapped-plant",
   "metadata": {},
   "outputs": [
    {
     "data": {
      "text/plain": [
       "<Figure size 1536x2048 with 0 Axes>"
      ]
     },
     "metadata": {},
     "output_type": "display_data"
    },
    {
     "data": {
      "image/png": "[encoded data removed]",
      "text/plain": [
       "<Figure size 432x288 with 2 Axes>"
      ]
     },
     "metadata": {
      "needs_background": "light"
     },
     "output_type": "display_data"
    }
   ],
   "source": [
    "fig = tm.vis.LogRdist(x, return_fig=True)"
   ]
  },
  {
   "cell_type": "code",
   "execution_count": 6,
   "id": "diagnostic-guess",
   "metadata": {},
   "outputs": [],
   "source": [
    "fig.savefig('prepareForRepo/test.pdf')"
   ]
  },
  {
   "cell_type": "code",
   "execution_count": null,
   "id": "tough-engagement",
   "metadata": {},
   "outputs": [],
   "source": []
  },
  {
   "cell_type": "code",
   "execution_count": null,
   "id": "assigned-nashville",
   "metadata": {},
   "outputs": [],
   "source": []
  }
 ],
 "metadata": {
  "kernelspec": {
   "display_name": "Python 3",
   "language": "python",
   "name": "python3"
  },
  "language_info": {
   "codemirror_mode": {
    "name": "ipython",
    "version": 3
   },
   "file_extension": ".py",
   "mimetype": "text/x-python",
   "name": "python",
   "nbconvert_exporter": "python",
   "pygments_lexer": "ipython3",
   "version": "3.8.5"
  }
 },
 "nbformat": 4,
 "nbformat_minor": 5
}
